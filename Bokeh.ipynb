{
 "cells": [
  {
   "cell_type": "markdown",
   "id": "7c571f4c",
   "metadata": {},
   "source": [
    "# Plotting with basic glyphs"
   ]
  },
  {
   "cell_type": "markdown",
   "id": "2ac87b7f",
   "metadata": {},
   "source": [
    "**Creating figures**"
   ]
  },
  {
   "cell_type": "code",
   "execution_count": 33,
   "id": "487ff80f",
   "metadata": {},
   "outputs": [],
   "source": [
    "from bokeh.plotting import figure, output_file,show\n",
    "from bokeh.palettes import RdBu3\n",
    "from bokeh.models import ColumnDataSource,Band,Label,LabelSet,Range1d,Slope\n",
    "from bokeh.palettes import Spectral8\n",
    "import numpy as np\n",
    "import pandas as pd\n",
    "from numpy import arange,linspace,pi,sin\n",
    "from bokeh.util.hex import axial_to_cartesian\n",
    "from bokeh.transform import linear_cmap\n",
    "from bokeh.util.hex import hexbin\n",
    "from bokeh.models import Range1d, LinearAxis\n",
    "from bokeh.layouts import column,row\n",
    "from bokeh.layouts import gridplot\n",
    "from bokeh.io import output_file,show\n",
    "from bokeh.models import Ellipse,GraphRenderer,StaticLayoutProvider,Title,Legend,LegendItem\n",
    "import math\n",
    "from bokeh.models import Arrow,NormalHead,OpenHead,OpenHead,VeeHead\n",
    "from bokeh.tile_providers import CARTODBPOSITRON,get_provider"
   ]
  },
  {
   "cell_type": "code",
   "execution_count": 4,
   "id": "f5910ea8",
   "metadata": {},
   "outputs": [],
   "source": [
    "#circle()\n",
    "\n",
    "output_file('line.html')\n",
    "\n",
    "p = figure(plot_width=400,plot_height=400)\n",
    "p.circle([1,2,3,4,5],[6,7,2,4,5],size=20,color='navy',alpha=0.5)\n",
    "show(p)"
   ]
  },
  {
   "cell_type": "code",
   "execution_count": 5,
   "id": "4d4056f2",
   "metadata": {},
   "outputs": [],
   "source": [
    "#square()\n",
    "\n",
    "output_file('line.html')\n",
    "\n",
    "p = figure(plot_width=400,plot_height=400)\n",
    "\n",
    "p.square([1,2,3,4,5],[7,6,8,3,3],size=30,color='red',alpha=0.5)\n",
    "show(p)"
   ]
  },
  {
   "cell_type": "markdown",
   "id": "4bed564f",
   "metadata": {},
   "source": [
    "**line glyphs**"
   ]
  },
  {
   "cell_type": "code",
   "execution_count": 7,
   "id": "67503fef",
   "metadata": {},
   "outputs": [],
   "source": [
    "#line() #single line\n",
    "\n",
    "output_file('line.html')\n",
    "\n",
    "p = figure(plot_width=400,plot_height=400)\n",
    "p.line([1,2,3,4,5],[6,7,8,3,2],line_width=2)\n",
    "show(p)"
   ]
  },
  {
   "cell_type": "code",
   "execution_count": 8,
   "id": "01c1c876",
   "metadata": {},
   "outputs": [],
   "source": [
    "#step line\n",
    "\n",
    "output_file('line.html')\n",
    "\n",
    "p = figure(plot_width=400,plot_height=400)\n",
    "p.step([1,2,3,4,5],[6,7,8,3,2],line_width=2,mode='center')\n",
    "show(p)"
   ]
  },
  {
   "cell_type": "code",
   "execution_count": 10,
   "id": "b22ea5c7",
   "metadata": {},
   "outputs": [],
   "source": [
    "#multiple lines\n",
    "\n",
    "output_file('patch.html')\n",
    "\n",
    "p = figure(plot_width=400,plot_height=400)\n",
    "p.multi_line([[1,2,3,4,5],[6,7,8]],[[9,8,7,6,5],[1,2,3]],color=['firebrick','navy'],alpha=[0.8,0.3],line_width=4)\n",
    "show(p)"
   ]
  },
  {
   "cell_type": "code",
   "execution_count": 12,
   "id": "b2be31fe",
   "metadata": {},
   "outputs": [
    {
     "name": "stderr",
     "output_type": "stream",
     "text": [
      "BokehUserWarning: ColumnDataSource's columns must be of the same length. Current lengths: ('x', 7), ('y', 6)\n"
     ]
    }
   ],
   "source": [
    "#missing values\n",
    "\n",
    "output_file('patch.html')\n",
    "\n",
    "p = figure(plot_width=400,plot_height=400)\n",
    "nan = float('nan')\n",
    "p.line([1,2,3,nan,4,5,6],[7,8,9,3,6,9.2],line_width=2)\n",
    "show(p)"
   ]
  },
  {
   "cell_type": "code",
   "execution_count": 15,
   "id": "01cb0c86",
   "metadata": {},
   "outputs": [],
   "source": [
    "#stacked lines\n",
    "\n",
    "output_file('vline_stack.html')\n",
    "\n",
    "source = ColumnDataSource(data=dict(x=[1,2,3,4,5],y1=[1,2,4,3,4],y2=[1,4,2,2,3]))\n",
    "p = figure(plot_width=400,plot_height=400)\n",
    "p.vline_stack(['y1','y2'],x='x',source=source)\n",
    "show(p)"
   ]
  },
  {
   "cell_type": "markdown",
   "id": "13d224b9",
   "metadata": {},
   "source": [
    "**Bars and rectangals**"
   ]
  },
  {
   "cell_type": "code",
   "execution_count": 22,
   "id": "ea3586f3",
   "metadata": {},
   "outputs": [],
   "source": [
    "output_file('vbar.html')\n",
    "\n",
    "p = figure(plot_width=400,plot_height=400)\n",
    "p.vbar(x=[1,2,3],width=0.5,bottom=0,top=[1.2,2.5,3.7],color='firebrick')\n",
    "\n",
    "show(p)"
   ]
  },
  {
   "cell_type": "code",
   "execution_count": 23,
   "id": "09d60ad8",
   "metadata": {},
   "outputs": [],
   "source": [
    "#horizontal bar\n",
    "\n",
    "output_file('hbar.html')\n",
    "\n",
    "p = figure(plot_width=400,plot_height=400)\n",
    "p.hbar(y=[1,2,3],height=0.5,left=0,right=[1.2,2.5,3.7],color='firebrick')\n",
    "\n",
    "show(p)"
   ]
  },
  {
   "cell_type": "code",
   "execution_count": 24,
   "id": "b153b032",
   "metadata": {},
   "outputs": [
    {
     "name": "stderr",
     "output_type": "stream",
     "text": [
      "BokehUserWarning: ColumnDataSource's columns must be of the same length. Current lengths: ('x1', 4), ('x2', 5), ('y', 5)\n"
     ]
    }
   ],
   "source": [
    "#stacked bar\n",
    "\n",
    "output_file('hbar_stack.html')\n",
    "\n",
    "source = ColumnDataSource(data=dict(y=[1,2,3,4,5],x1=[12,4,3,4],x2=[1,4,2,2,3]))\n",
    "p = figure(plot_width=400,plot_height=400)\n",
    "p.hbar_stack(['x1','x2'],y='y',height=0.8,color=('red','navy'),source=source)\n",
    "show(p)"
   ]
  },
  {
   "cell_type": "code",
   "execution_count": 25,
   "id": "686ffe41",
   "metadata": {},
   "outputs": [],
   "source": [
    "#rectangles\n",
    "\n",
    "output_file('rectangles.html')\n",
    "\n",
    "p = figure(plot_width=400,plot_height=400)\n",
    "p.quad(top=[2,3,4],bottom=[1,2,3],left=[1,2,3],right=[1.2,2.5,3.7],color='#B3DE69')\n",
    "show(p)"
   ]
  },
  {
   "cell_type": "code",
   "execution_count": 28,
   "id": "54c3ae89",
   "metadata": {},
   "outputs": [],
   "source": [
    "#orbitrary rectangles\n",
    "\n",
    "from math import pi\n",
    "\n",
    "output_file('rectangles_rotated.html')\n",
    "\n",
    "p = figure(plot_width=400,plot_height=400)\n",
    "p.rect(x=[1,2,3],y=[1,2,3],width=0.2,height=40,color='#CAB2D6',angle=pi/3,height_units='screen')\n",
    "show(p)"
   ]
  },
  {
   "cell_type": "markdown",
   "id": "aa3a3724",
   "metadata": {},
   "source": [
    "**hex tile**"
   ]
  },
  {
   "cell_type": "code",
   "execution_count": 31,
   "id": "1ba870f4",
   "metadata": {},
   "outputs": [],
   "source": [
    "output_file('hex_coords.html')\n",
    "\n",
    "q = np.array([0,0,0,-1,-1,1,1])\n",
    "r = np.array([0,-1,1,0,1,-1,0])\n",
    "\n",
    "p = figure(plot_width=400,plot_height=400,toolbar_location=None)\n",
    "p.grid.visible = False\n",
    "\n",
    "p.hex_tile(q,r,size=1,fill_color=['firebrick']*3 + ['navy']*4,line_color='white',alpha=0.5)\n",
    "x,y = axial_to_cartesian(q,r,1,'pointytop')\n",
    "\n",
    "p.text(x,y,text=['(%d,%d)' %(q,r)for (q,r) in zip(q,r)],text_baseline='middle',text_align='center')\n",
    "show(p)"
   ]
  },
  {
   "cell_type": "code",
   "execution_count": 34,
   "id": "f11aa67a",
   "metadata": {},
   "outputs": [],
   "source": [
    "from bokeh.transform import linear_cmap\n",
    "from bokeh.util.hex import hexbin\n",
    "\n",
    "n = 50000\n",
    "x = np.random.standard_normal(n)\n",
    "y = np.random.standard_normal(n)\n",
    "\n",
    "bins = hexbin(x,y,0.1)\n",
    "\n",
    "p = figure(tools='wheel_zoom,reset',match_aspect=True,background_fill_color='#440154')\n",
    "p.grid.visible = False\n",
    "\n",
    "p.hex_tile(q='q',r='r',size=0.1,line_color=None,source=bins,\n",
    "          fill_color=linear_cmap('counts','Viridis256',0,max(bins.counts)))\n",
    "output_file('hex_tile.html')\n",
    "show(p)"
   ]
  },
  {
   "cell_type": "markdown",
   "id": "53dbffd6",
   "metadata": {},
   "source": [
    "**Directed Areas**"
   ]
  },
  {
   "cell_type": "code",
   "execution_count": 35,
   "id": "fcc3491b",
   "metadata": {},
   "outputs": [],
   "source": [
    "# single area\n",
    "\n",
    "output_file('varea.html')\n",
    "\n",
    "p = figure(plot_width=400,plot_height=400)\n",
    "\n",
    "p.varea(x=[1,2,3,4,5],y1=[2,6,4,3,5],y2=[1,4,2,2,4])\n",
    "show(p)"
   ]
  },
  {
   "cell_type": "code",
   "execution_count": 36,
   "id": "044db92e",
   "metadata": {},
   "outputs": [],
   "source": [
    "#stacked area\n",
    "\n",
    "output_file('varea_stack.html')\n",
    "\n",
    "source = ColumnDataSource(data=dict(x=[1,2,3,4,5],\n",
    "                                   y1=[1,2,4,3,4],\n",
    "                                   y2=[1,4,2,2,3]))\n",
    "P = figure(plot_width = 400,plot_height=400)\n",
    "p.varea_stack(['y1','y2'],x='x',color=('blue','red'),source=source)\n",
    "show(p)"
   ]
  },
  {
   "cell_type": "markdown",
   "id": "6f2d78a2",
   "metadata": {},
   "source": [
    "**Patches and polygons**"
   ]
  },
  {
   "cell_type": "code",
   "execution_count": 38,
   "id": "39de9c25",
   "metadata": {},
   "outputs": [],
   "source": [
    "#patch()\n",
    "\n",
    "output_file('patch.html')\n",
    "\n",
    "p = figure(plot_width=400,plot_height=400)\n",
    "\n",
    "p.patch([1,2,3,4,5],[6,7,8,7,3],alpha=0.5,line_width=2)\n",
    "\n",
    "show(p)"
   ]
  },
  {
   "cell_type": "code",
   "execution_count": 40,
   "id": "0a1c414c",
   "metadata": {},
   "outputs": [],
   "source": [
    "#multiple patches\n",
    "\n",
    "output_file('patch.html')\n",
    "\n",
    "p = figure(plot_width=400,plot_height=400)\n",
    "\n",
    "p.patches([[1,3,2],[3,4,6,6]],[[2,1,4],[4,7,8,5]],\n",
    "         color=['firebrick','navy'],alpha=[0.8,0.3],line_width=2)\n",
    "show(p)"
   ]
  },
  {
   "cell_type": "code",
   "execution_count": 41,
   "id": "08e75e7b",
   "metadata": {},
   "outputs": [],
   "source": [
    "#polygon\n",
    "\n",
    "output_file('multipolygon_simple.html')\n",
    "p = figure(plot_width=400,plot_height=400)\n",
    "p.multi_polygons(xs=[[[[1,1,2,2]]]],ys=[[[[3,4,4,3]]]])\n",
    "show(p)"
   ]
  },
  {
   "cell_type": "code",
   "execution_count": 44,
   "id": "a6f46716",
   "metadata": {},
   "outputs": [],
   "source": [
    "#polygon with holes\n",
    "\n",
    "output_file('multipolygon_simple.html')\n",
    "p = figure(plot_width=400,plot_height=400)\n",
    "p.multi_polygons(xs=[[[ [1,2,2,1],[1.2,1.6,1.6],[1.8,1.8,1.6] ]]], ys=[[[ [3,3,4,4],[3.2,3.6,3.2],[3.4,3.8,3.8]]]])\n",
    "show(p)\n",
    "                                                                     \n",
    "                    "
   ]
  },
  {
   "cell_type": "code",
   "execution_count": 45,
   "id": "1004a85d",
   "metadata": {},
   "outputs": [],
   "source": [
    "#multipolygon with seperate parts\n",
    "\n",
    "output_file('multipolygon_with_separate_parts.html')\n",
    "\n",
    "p = figure(plot_width=400,plot_height=400)\n",
    "\n",
    "p.multi_polygons(xs=[[[[1,1,2,2],[1.2,1.6,1.6],[1.8,1.8,1.6]],\n",
    "                     [[3,4,3]]]],\n",
    "                ys=[[[ [4,3,3,4],[3.2,3.2,3.6],[3.4,3.8,3.8]],[[1,1,3]]]])\n",
    "show(p)\n",
    "\n"
   ]
  },
  {
   "cell_type": "markdown",
   "id": "45c4331b",
   "metadata": {},
   "source": [
    "**ellipses**"
   ]
  },
  {
   "cell_type": "code",
   "execution_count": 46,
   "id": "05d2b465",
   "metadata": {},
   "outputs": [],
   "source": [
    "#simple\n",
    "\n",
    "output_file('ellipses.html')\n",
    "p = figure(plot_width=400,plot_height=400)\n",
    "p.ellipse(x=[1,2,3],y=[1,2,3],width=[0.2,0.3,0.1],height=0.3,angle=pi/3,color='#CAB2D6')\n",
    "show(p)"
   ]
  },
  {
   "cell_type": "markdown",
   "id": "c948146a",
   "metadata": {},
   "source": [
    "**Images**"
   ]
  },
  {
   "cell_type": "code",
   "execution_count": 2,
   "id": "b33b7dbd",
   "metadata": {},
   "outputs": [
    {
     "ename": "ValueError",
     "evalue": "cannot reshape array of size 400 into shape (20,20,2)",
     "output_type": "error",
     "traceback": [
      "\u001b[1;31m---------------------------------------------------------------------------\u001b[0m",
      "\u001b[1;31mValueError\u001b[0m                                Traceback (most recent call last)",
      "\u001b[1;32m~\\AppData\\Local\\Temp\\ipykernel_11408\\1728422097.py\u001b[0m in \u001b[0;36m<module>\u001b[1;34m\u001b[0m\n\u001b[0;32m      5\u001b[0m \u001b[0mn\u001b[0m \u001b[1;33m=\u001b[0m \u001b[1;36m20\u001b[0m\u001b[1;33m\u001b[0m\u001b[1;33m\u001b[0m\u001b[0m\n\u001b[0;32m      6\u001b[0m \u001b[0mimg\u001b[0m \u001b[1;33m=\u001b[0m \u001b[0mnp\u001b[0m\u001b[1;33m.\u001b[0m\u001b[0mempty\u001b[0m\u001b[1;33m(\u001b[0m\u001b[1;33m(\u001b[0m\u001b[0mn\u001b[0m\u001b[1;33m,\u001b[0m\u001b[0mn\u001b[0m\u001b[1;33m)\u001b[0m\u001b[1;33m,\u001b[0m \u001b[0mdtype\u001b[0m\u001b[1;33m=\u001b[0m\u001b[0mnp\u001b[0m\u001b[1;33m.\u001b[0m\u001b[0muint32\u001b[0m\u001b[1;33m)\u001b[0m\u001b[1;33m\u001b[0m\u001b[1;33m\u001b[0m\u001b[0m\n\u001b[1;32m----> 7\u001b[1;33m \u001b[0mview\u001b[0m \u001b[1;33m=\u001b[0m \u001b[0mimg\u001b[0m\u001b[1;33m.\u001b[0m\u001b[0mview\u001b[0m\u001b[1;33m(\u001b[0m\u001b[0mdtype\u001b[0m\u001b[1;33m=\u001b[0m\u001b[0mnp\u001b[0m\u001b[1;33m.\u001b[0m\u001b[0muint\u001b[0m\u001b[1;33m)\u001b[0m\u001b[1;33m.\u001b[0m\u001b[0mreshape\u001b[0m\u001b[1;33m(\u001b[0m\u001b[1;33m(\u001b[0m\u001b[0mn\u001b[0m\u001b[1;33m,\u001b[0m\u001b[0mn\u001b[0m\u001b[1;33m,\u001b[0m\u001b[1;36m2\u001b[0m\u001b[1;33m)\u001b[0m\u001b[1;33m)\u001b[0m\u001b[1;33m\u001b[0m\u001b[1;33m\u001b[0m\u001b[0m\n\u001b[0m\u001b[0;32m      8\u001b[0m \u001b[1;32mfor\u001b[0m \u001b[0mi\u001b[0m \u001b[1;32min\u001b[0m \u001b[0mrange\u001b[0m\u001b[1;33m(\u001b[0m\u001b[0mn\u001b[0m\u001b[1;33m)\u001b[0m\u001b[1;33m:\u001b[0m\u001b[1;33m\u001b[0m\u001b[1;33m\u001b[0m\u001b[0m\n\u001b[0;32m      9\u001b[0m     \u001b[1;32mfor\u001b[0m \u001b[0mj\u001b[0m \u001b[1;32min\u001b[0m \u001b[0mrange\u001b[0m\u001b[1;33m(\u001b[0m\u001b[0mn\u001b[0m\u001b[1;33m)\u001b[0m\u001b[1;33m:\u001b[0m\u001b[1;33m\u001b[0m\u001b[1;33m\u001b[0m\u001b[0m\n",
      "\u001b[1;31mValueError\u001b[0m: cannot reshape array of size 400 into shape (20,20,2)"
     ]
    }
   ],
   "source": [
    "#Raw RGBA data\n",
    "\n",
    "#array of rgba data\n",
    "\n",
    "n = 20\n",
    "img = np.empty((n,n), dtype=np.uint32)\n",
    "view = img.view(dtype=np.uint).reshape((n,n,4))\n",
    "for i in range(n):\n",
    "    for j in range(n):\n",
    "        view[i,j,0] = int(255*i/n)\n",
    "        view[i,j,1] = 158\n",
    "        view[i,j,2] = int(255 * j/n)\n",
    "        view[i,j,3] = 255\n",
    "        \n",
    "output_file('image_rgba.html')\n",
    "\n",
    "p = figure(plot_width=400,plot_height=400,x_range=(0,10),y_range=(0,10))\n",
    "p.image_rgba(image=[img],x=[0],y=[0],dw=[10],dh=[10])\n",
    "\n",
    "show(p)"
   ]
  },
  {
   "cell_type": "code",
   "execution_count": 3,
   "id": "9b5a5e31",
   "metadata": {},
   "outputs": [],
   "source": [
    "#colored maped image\n",
    "\n",
    "output_file('image.html',title='image.py example')\n",
    "\n",
    "x = np.linspace(0,10,250)\n",
    "y = np.linspace(0,10,250)\n",
    "xx, yy = np.meshgrid(x,y)\n",
    "d = np.sin(xx)*np.cos(yy)\n",
    "\n",
    "p = figure(plot_width=400,plot_height=400)\n",
    "\n",
    "p.x_range.range_padding = p.y_range.range_padding = 0\n",
    "\n",
    "p.image(image=[d],x=0,y=0,dw=10,dh=10,palette='Spectral11',level='image')\n",
    "p.grid.grid_line_width = 0.5\n",
    "\n",
    "show(p)"
   ]
  },
  {
   "cell_type": "markdown",
   "id": "97c620e5",
   "metadata": {},
   "source": [
    "**segments and rays**"
   ]
  },
  {
   "cell_type": "code",
   "execution_count": 4,
   "id": "78a64f65",
   "metadata": {},
   "outputs": [],
   "source": [
    "#segments\n",
    "\n",
    "p = figure(plot_width=400,plot_height=400)\n",
    "p.segment(x0=[1,2,3],y0=[1,2,3],x1=[1.2,2.4,3.1],y1=[1.2,2.5,3.7],color='#F4A582',line_width=3)\n",
    "show(p)"
   ]
  },
  {
   "cell_type": "code",
   "execution_count": 6,
   "id": "f6549b2b",
   "metadata": {},
   "outputs": [],
   "source": [
    "#aray\n",
    "\n",
    "p = figure(plot_width=400,plot_height=400)\n",
    "p.ray(x=[1,2,3],y=[1,2,3],length=45,angle=[30,45,60],angle_units='deg',color='#FB8072',line_width=2)\n",
    "show(p)"
   ]
  },
  {
   "cell_type": "markdown",
   "id": "72da5c40",
   "metadata": {},
   "source": [
    "**wedges and arcs**"
   ]
  },
  {
   "cell_type": "code",
   "execution_count": 7,
   "id": "7e0b267c",
   "metadata": {},
   "outputs": [],
   "source": [
    "#arc\n",
    "\n",
    "p = figure(plot_width=400,plot_height=400)\n",
    "p.arc(x=[1,2,3],y=[1,2,3],radius=0.1,start_angle=0.4,end_angle=4.8,color='navy')\n",
    "show(p)"
   ]
  },
  {
   "cell_type": "code",
   "execution_count": 8,
   "id": "17e25c64",
   "metadata": {},
   "outputs": [],
   "source": [
    "#wedge\n",
    "\n",
    "p = figure(plot_width=400,plot_height=400)\n",
    "p.wedge(x=[1,2,3],y=[1,2,3],radius=0.2,start_angle=0.4,end_angle=4.8,color='navy',alpha=0.6,direction='clock')\n",
    "show(p)"
   ]
  },
  {
   "cell_type": "code",
   "execution_count": 10,
   "id": "4b7e6478",
   "metadata": {},
   "outputs": [],
   "source": [
    "#annular_wedge\n",
    "\n",
    "p = figure(plot_width=400,plot_height=400)\n",
    "p.annular_wedge(x=[1,2,3],y=[1,2,3],inner_radius=0.1,outer_radius=0.25,start_angle=0.4,end_angle=4.8,color='navy')\n",
    "show(p)"
   ]
  },
  {
   "cell_type": "code",
   "execution_count": 11,
   "id": "08e7aa32",
   "metadata": {},
   "outputs": [],
   "source": [
    "#annulus\n",
    "\n",
    "p = figure(plot_width=400,plot_height=400)\n",
    "p.annulus(x=[1,2,3],y=[1,2,3],inner_radius=0.1,outer_radius=0.25,color='navy')\n",
    "show(p)"
   ]
  },
  {
   "cell_type": "code",
   "execution_count": 12,
   "id": "bb383767",
   "metadata": {},
   "outputs": [],
   "source": [
    "#combining multiplr glyphs\n",
    "\n",
    "x = [1,2,3,4,5]\n",
    "y = [6,7,8,7,3]\n",
    "\n",
    "output_file('multiple.html')\n",
    "\n",
    "p = figure(plot_width=400,plot_height=400)\n",
    "\n",
    "p.line(x,y,line_width=2)\n",
    "p.circle(x,y,fill_color='white',size=8)\n",
    "show(p)"
   ]
  },
  {
   "cell_type": "code",
   "execution_count": 15,
   "id": "fd54bc6e",
   "metadata": {},
   "outputs": [],
   "source": [
    "# setting range\n",
    "\n",
    "output_file('title.html')\n",
    "\n",
    "p = figure(plot_width=400,plot_height=400,x_range=(0,20))\n",
    "\n",
    "p.y_range = Range1d(0,15)\n",
    "\n",
    "p.circle([1,2,3,4,5],[2,5,8,2,7],size=10)\n",
    "show(p)"
   ]
  },
  {
   "cell_type": "markdown",
   "id": "32e44954",
   "metadata": {},
   "source": [
    "**specifing axes type**"
   ]
  },
  {
   "cell_type": "code",
   "execution_count": 23,
   "id": "b79900a8",
   "metadata": {},
   "outputs": [],
   "source": [
    "#categorical axes\n",
    "\n",
    "factors = ['a','b','c','d','e','f','g','h']\n",
    "x = [50,40,65,10,25,37,80,60]\n",
    "\n",
    "output_file('categorical.html')\n",
    "\n",
    "p = figure(y_range=factors)\n",
    "p.circle(x,factors,size=15,fill_color='orange',line_color='green',line_width=3)\n",
    "\n",
    "show(p)"
   ]
  },
  {
   "cell_type": "code",
   "execution_count": 24,
   "id": "0b39bf5a",
   "metadata": {},
   "outputs": [],
   "source": [
    "#twin axes\n",
    "\n",
    "x = arange(-2*pi,2*pi,0.1)\n",
    "y = sin(x)\n",
    "y2 = linspace(0,100,len(y))\n",
    "\n",
    "output_file('twin_axis.html')\n",
    "\n",
    "p = figure(x_range=(-6.5,6.5),y_range=(-1.1,1.1))\n",
    "\n",
    "p.circle(x,y,color='red')\n",
    "\n",
    "p.extra_y_ranges = {'foo':Range1d(start=0,end=100)}\n",
    "p.circle(x,y2,color='blue',y_range_name='foo')\n",
    "p.add_layout(LinearAxis(y_range_name='foo'),'left')\n",
    "\n",
    "show(p)"
   ]
  },
  {
   "cell_type": "markdown",
   "id": "7dc7a2ab",
   "metadata": {},
   "source": [
    "# Basic layouts"
   ]
  },
  {
   "cell_type": "code",
   "execution_count": 34,
   "id": "8dec595e",
   "metadata": {},
   "outputs": [
    {
     "name": "stderr",
     "output_type": "stream",
     "text": [
      "ERROR:bokeh.core.validation.check:E-1001 (BAD_COLUMN_NAME): Glyph refers to nonexistent column name. This could either be due to a misspelling or typo, or due to an expected column being missing. : key \"fill_color\" value \"d95b43\", key \"hatch_color\" value \"d95b43\", key \"line_color\" value \"d95b43\" [renderer: GlyphRenderer(id='4816', ...)]\n"
     ]
    }
   ],
   "source": [
    "#basic column layout\n",
    "\n",
    "output_file('layout.html')\n",
    "\n",
    "x = list(range(11))\n",
    "y0 = x\n",
    "y1= [10 -i for i in x]\n",
    "y2 = [abs(i-5) for i in x]\n",
    "\n",
    "s1 = figure(plot_width=250,plot_height = 250, background_fill_color= '#fafafa')\n",
    "s1.circle(x,y0,size=12,color='#53777a',alpha=0.8)\n",
    "\n",
    "s2 = figure(plot_width=250,plot_height = 250, background_fill_color= '#fafafa')\n",
    "s2.triangle(x,y1,size=12,color='#c02942',alpha=0.8)\n",
    "\n",
    "s3 = figure(plot_width=250,plot_height = 250, background_fill_color= '#fafafa')\n",
    "s3.square(x,y2,size=12,color='d95b43',alpha=0.8)\n",
    "\n",
    "show(column(s1,s2,s3))\n",
    "\n"
   ]
  },
  {
   "cell_type": "code",
   "execution_count": 47,
   "id": "248aa4ca",
   "metadata": {},
   "outputs": [
    {
     "name": "stderr",
     "output_type": "stream",
     "text": [
      "ERROR:bokeh.core.validation.check:E-1001 (BAD_COLUMN_NAME): Glyph refers to nonexistent column name. This could either be due to a misspelling or typo, or due to an expected column being missing. : key \"fill_color\" value \"d95b43\", key \"hatch_color\" value \"d95b43\", key \"line_color\" value \"d95b43\" [renderer: GlyphRenderer(id='8679', ...)]\n"
     ]
    }
   ],
   "source": [
    "#row layout\n",
    "\n",
    "#basic layout\n",
    "\n",
    "output_file('layout.html')\n",
    "\n",
    "x = list(range(11))\n",
    "y0 = x\n",
    "y1= [10 -i for i in x]\n",
    "y2 = [abs(i-5) for i in x]\n",
    "\n",
    "s1 = figure(plot_width=250,plot_height = 250, background_fill_color= '#fafafa')\n",
    "s1.circle(x,y0,size=12,color='#53777a',alpha=0.8)\n",
    "\n",
    "s2 = figure(plot_width=250,plot_height = 250, background_fill_color= '#fafafa')\n",
    "s2.triangle(x,y1,size=12,color='#c02942',alpha=0.8)\n",
    "\n",
    "s3 = figure(plot_width=250,plot_height = 250, background_fill_color= '#fafafa')\n",
    "s3.square(x,y2,size=12,color='d95b43',alpha=0.8)\n",
    "\n",
    "show(row(s1,s2,s3))\n"
   ]
  },
  {
   "cell_type": "code",
   "execution_count": 46,
   "id": "b04654a7",
   "metadata": {},
   "outputs": [
    {
     "name": "stderr",
     "output_type": "stream",
     "text": [
      "BokehDeprecationWarning: plot_width and plot_height was deprecated in Bokeh 2.4.0 and will be removed, use width or height instead.\n",
      "ERROR:bokeh.core.validation.check:E-1001 (BAD_COLUMN_NAME): Glyph refers to nonexistent column name. This could either be due to a misspelling or typo, or due to an expected column being missing. : key \"fill_color\" value \"d95b43\", key \"hatch_color\" value \"d95b43\", key \"line_color\" value \"d95b43\" [renderer: GlyphRenderer(id='8098', ...)]\n"
     ]
    }
   ],
   "source": [
    "#grid layout for plots\n",
    "\n",
    "output_file('layout_grid.html')\n",
    "\n",
    "x = list(range(11))\n",
    "y0 = x\n",
    "y1= [10 -i for i in x]\n",
    "y2 = [abs(i-5) for i in x]\n",
    "\n",
    "s1 = figure(background_fill_color= '#fafafa')\n",
    "s1.circle(x,y0,size=12,color='#53777a',alpha=0.8)\n",
    "\n",
    "s2 = figure(background_fill_color= '#fafafa')\n",
    "s2.triangle(x,y1,size=12,color='#c02942',alpha=0.8)\n",
    "\n",
    "s3 = figure(background_fill_color= '#fafafa')\n",
    "s3.square(x,y2,size=12,color='d95b43',alpha=0.8)\n",
    "\n",
    "grid = gridplot([[s1,s2],[None,s3]],plot_width=250,plot_height=250)\n",
    "show(grid)"
   ]
  },
  {
   "cell_type": "markdown",
   "id": "7c037265",
   "metadata": {},
   "source": [
    "**layout provider**"
   ]
  },
  {
   "cell_type": "code",
   "execution_count": 66,
   "id": "743e0acf",
   "metadata": {},
   "outputs": [],
   "source": [
    "n = 8\n",
    "node_indices = list(range(n))\n",
    "\n",
    "plot = figure(title='Graph Layout Demonstration',x_range=(-1.1,1.1),y_range=(-1.1,1.1),tools='',toolbar_location=None)\n",
    "graph = GraphRenderer()\n",
    "\n",
    "graph.node_renderer.data_source.add(node_indices,'index')\n",
    "graph.node_renderer.data_source.add(Spectral8,'color')\n",
    "graph.node_renderer.glyph = Ellipse(height=0.1,width=0.2,fill_color='color')\n",
    "graph.edge_renderer.data_source.data = dict(start=[0]*n,end=node_indices)\n",
    "\n",
    "circ = [i*2*math.pi/8 for i in node_indices]\n",
    "x = [math.cos(i) for i in circ]\n",
    "y = [math.sin(i) for i in circ]\n",
    "\n",
    "graph_layout = dict(zip(node_indices,zip(x,y)))\n",
    "graph.layout_provider = StaticLayoutProvider(graph_layout=graph_layout)\n",
    "graph.layout_provider = StaticLayoutProvider(graph_layout=graph_layout)\n",
    "plot.renderers.append(graph)\n",
    "\n",
    "output_file('graph.html')\n",
    "show(plot)"
   ]
  },
  {
   "cell_type": "markdown",
   "id": "a246e4be",
   "metadata": {},
   "source": [
    "# Mapping Geo Data"
   ]
  },
  {
   "cell_type": "code",
   "execution_count": 69,
   "id": "93683b55",
   "metadata": {},
   "outputs": [],
   "source": [
    "output_file('tile.html')\n",
    "\n",
    "tile_provider = get_provider(CARTODBPOSITRON)\n",
    "\n",
    "p = figure(x_range=(-2000000,6000000),y_range=(-1000000,7000000),x_axis_type='mercator',y_axis_type='mercator')\n",
    "p.add_tile(tile_provider)\n",
    "show(p)"
   ]
  },
  {
   "cell_type": "markdown",
   "id": "9c9a50c8",
   "metadata": {},
   "source": [
    "**Google maps**"
   ]
  },
  {
   "cell_type": "code",
   "execution_count": 70,
   "id": "75e334cb",
   "metadata": {},
   "outputs": [],
   "source": [
    "from bokeh.models import ColumnDataSource,GMapOptions\n",
    "from bokeh.plotting import gmap"
   ]
  },
  {
   "cell_type": "code",
   "execution_count": 74,
   "id": "48443107",
   "metadata": {},
   "outputs": [],
   "source": [
    "output_file('gmap.html')\n",
    "map_options = GMapOptions(lat=30.2861,lng=97.7394,map_type='roadmap',zoom=11)\n",
    "\n",
    "p = gmap('GOOGLE_API_KEY',map_options,title='Austin')\n",
    "source = ColumnDataSource(data=dict(lat=[30.29,30.20,30.29],lon=[-97.70,-97.74,-97.78]))\n",
    "p.circle(x='lon',y='lat',size=15,fill_color='blue',fill_alpha=0.8,source=source)\n",
    "show(p)"
   ]
  },
  {
   "cell_type": "markdown",
   "id": "e688e9d1",
   "metadata": {},
   "source": [
    "# adding annotations"
   ]
  },
  {
   "cell_type": "markdown",
   "id": "04779238",
   "metadata": {},
   "source": [
    "**Title**"
   ]
  },
  {
   "cell_type": "code",
   "execution_count": 2,
   "id": "f53622c5",
   "metadata": {},
   "outputs": [],
   "source": [
    "p = figure(title='basis Title ',plot_width=400,plot_height=400)\n",
    "p.circle([1,2],[3,4])\n",
    "output_file('title.html')\n",
    "show(p)"
   ]
  },
  {
   "cell_type": "code",
   "execution_count": 3,
   "id": "dfebfa7d",
   "metadata": {},
   "outputs": [],
   "source": [
    "#title_location\n",
    "\n",
    "p = figure(title='basis Title ',title_location='left',plot_width=400,plot_height=400)\n",
    "p.circle([1,2],[3,4])\n",
    "output_file('title.html')\n",
    "show(p)"
   ]
  },
  {
   "cell_type": "code",
   "execution_count": 4,
   "id": "2bd319fc",
   "metadata": {},
   "outputs": [],
   "source": [
    "#title.\n",
    "\n",
    "p = figure(plot_width=400,plot_height=400)\n",
    "p.circle([1,2],[3,4])\n",
    "\n",
    "p.title.text = 'title with options'\n",
    "p.title.align = 'right'\n",
    "p.title.text_color = 'orange'\n",
    "p.title.text_font_size = '25px'\n",
    "p.title.background_fill_color = '#aaaaee'\n",
    "\n",
    "output_file('title.html')\n",
    "show(p)"
   ]
  },
  {
   "cell_type": "code",
   "execution_count": 7,
   "id": "d2f4e4cd",
   "metadata": {},
   "outputs": [],
   "source": [
    "#add_layout\n",
    "\n",
    "p = figure(title='basis Title ',title_location='left',plot_width=400,plot_height=400)\n",
    "p.circle([1,2],[3,4])\n",
    "\n",
    "p.add_layout(Title(text='Bottom Centered Title',align='center'),'below')\n",
    "output_file('title.html')\n",
    "show(p)"
   ]
  },
  {
   "cell_type": "markdown",
   "id": "9629936e",
   "metadata": {},
   "source": [
    "**legends**"
   ]
  },
  {
   "cell_type": "code",
   "execution_count": 10,
   "id": "48deb33d",
   "metadata": {},
   "outputs": [],
   "source": [
    "x = np.linspace(0,4*np.pi,100)\n",
    "y = np.sin(x)\n",
    "\n",
    "output_file('legend.html')\n",
    "\n",
    "p = figure()\n",
    "\n",
    "p.circle(x,y,legend_label='sin(x)')\n",
    "p.line(x,y,legend_label='sin(x)')\n",
    "\n",
    "p.line(x,2*y,legend_label='2*sin(x)',line_dash=[4,4],line_color='orange',line_width=2)\n",
    "\n",
    "p.square(x,3*y,legend_label='3*sin(x)',fill_color=None,line_color='green')\n",
    "p.line(x,3*y,legend_label='3*sin(x)',line_color='green')\n",
    "\n",
    "show(p)"
   ]
  },
  {
   "cell_type": "markdown",
   "id": "17dd1443",
   "metadata": {},
   "source": [
    "**Automatic grouping**"
   ]
  },
  {
   "cell_type": "code",
   "execution_count": 12,
   "id": "ccfbd24d",
   "metadata": {},
   "outputs": [],
   "source": [
    "c1 = RdBu3[2]\n",
    "c2 = RdBu3[0]\n",
    "\n",
    "source = ColumnDataSource(dict(x=[1,2,3,4,5,6],y=[2,1,2,1,2,1],color=[c1,c2,c1,c2,c1,c2],label=['hi','lo','hi','lo','hi','lo']))\n",
    "p = figure(x_range=(0,7),y_range=(0,3),plot_height=300,tools='save')\n",
    "\n",
    "p.circle(x='x',y='y',radius=0.5,color='color',legend_group='label',source=source)\n",
    "show(p)"
   ]
  },
  {
   "cell_type": "markdown",
   "id": "a9e0550f",
   "metadata": {},
   "source": [
    "**Explicit index**"
   ]
  },
  {
   "cell_type": "code",
   "execution_count": 15,
   "id": "615964f1",
   "metadata": {},
   "outputs": [],
   "source": [
    "p = figure()\n",
    "\n",
    "r =  p.multi_line([[1,2,3],[1,2,3]],[[1,3,2],[3,4,3]],color=['orange','red'],line_width=4)\n",
    "\n",
    "legend = Legend(items=[LegendItem(label='orange',renderers=[r],index=0),\n",
    "                      LegendItem(label='red',renderers=[r],index=1)])\n",
    "p.add_layout(legend)\n",
    "show(p)"
   ]
  },
  {
   "cell_type": "markdown",
   "id": "7537a960",
   "metadata": {},
   "source": [
    "**Arrow**"
   ]
  },
  {
   "cell_type": "code",
   "execution_count": 4,
   "id": "375f3abc",
   "metadata": {},
   "outputs": [],
   "source": [
    "output_file('arrow.html',title='arrow.py example')\n",
    "p = figure(plot_width = 400, plot_height=400)\n",
    "\n",
    "p.circle(x=[0,1,0.5],y=[0,0,0.7],radius=0.1,color=['navy','yellow','red'],\n",
    "        fill_alpha=0.2)\n",
    "\n",
    "p.add_layout(Arrow(end=OpenHead(line_color='firebrick',line_width=4),\n",
    "                  x_start=0,y_start=0,x_end=1,y_end=0))\n",
    "\n",
    "\n",
    "p.add_layout(Arrow(end=NormalHead(fill_color='orange'),\n",
    "                  x_start=1,y_start=0,x_end=0.5,y_end=0.7))\n",
    "\n",
    "p.add_layout(Arrow(end=VeeHead(size=35),line_color='red',x_start=0.5,y_start=0.7,x_end=0,y_end=0))\n",
    "show(p)"
   ]
  },
  {
   "cell_type": "markdown",
   "id": "f62fee76",
   "metadata": {},
   "source": [
    "**Bands**"
   ]
  },
  {
   "cell_type": "code",
   "execution_count": 11,
   "id": "87b35eb6",
   "metadata": {},
   "outputs": [],
   "source": [
    "x = np.random.random(2500)*140-20\n",
    "y = np.random.normal(size=2500)*2 +5\n",
    "\n",
    "df = pd.DataFrame(data=dict(x=x,y=y)).sort_values(by='x')\n",
    "\n",
    "sem = lambda x:x.std()/np.sqrt(x.size)\n",
    "\n",
    "df2 = df.y.rolling(window=100).agg({'y_mean':np.mean,\"y_std\":np.std,'y_sem':sem})\n",
    "df2 = df2.fillna(method='bfill')\n",
    "\n",
    "df = pd.concat([df,df2],axis=1)\n",
    "\n",
    "df['lower'] = df.y_mean - df.y_std\n",
    "df['upper'] = df.y_mean - df.y_std\n",
    "\n",
    "source = ColumnDataSource(df.reset_index())\n",
    "\n",
    "TOOLS = 'pan,wheel_zoom,box_zoom,reset,save'\n",
    "\n",
    "p = figure(tools=TOOLS)\n",
    "\n",
    "p.scatter(x='x',y='y',line_color=None,fill_alpha=0.3,size=5,source=source)\n",
    "\n",
    "band = Band(base='x',lower='lower',upper='upper',source=source,level='underlay',fill_alpha=1.0,line_width=1,line_color='black')\n",
    "\n",
    "p.add_layout(band)\n",
    "\n",
    "p.title.text = 'Rolling Standard Deviation'\n",
    "p.xgrid[0].grid_line_color = None\n",
    "p.ygrid[0].grid_line_alpha = 0.5\n",
    "p.xaxis.axis_label = 'x'\n",
    "p.yaxis.axis_label = 'y'\n",
    "show(p)"
   ]
  },
  {
   "cell_type": "markdown",
   "id": "32246c83",
   "metadata": {},
   "source": [
    "**Labels**"
   ]
  },
  {
   "cell_type": "code",
   "execution_count": 13,
   "id": "9879a102",
   "metadata": {},
   "outputs": [],
   "source": [
    "output_file('label.html',title='label,py exapmle')\n",
    "\n",
    "source = ColumnDataSource(data=dict(height=[66,71,72,68,58,62],weight=[165,189,220,141,260,174],\n",
    "                                   names=['mark','amir','matt','greg','owen','juan']))\n",
    "\n",
    "p = figure(title='Dist. of 10th grade student at lee high',x_range=Range1d(140,275))\n",
    "\n",
    "p.scatter(x='weight',y='height',size=8,source=source)\n",
    "p.xaxis[0].axis_label = 'weight(lbs)'\n",
    "p.yaxis[0].axis_label = 'height(in)'\n",
    "\n",
    "labels = LabelSet(x='weight',y='height',text='names',level='glyph',x_offset=5,y_offset=5,\n",
    "                 source=source,render_mode='canvas')\n",
    "\n",
    "citation = Label(x=70,y=70,x_units='screen',y_units='screen',text='collected by luke c. 2016-04-01',\n",
    "                 render_mode='css',border_line_color = 'black',border_line_alpha=1.0,\n",
    "                background_fill_color='white',background_fill_alpha=1.0)\n",
    "\n",
    "p.add_layout(labels)\n",
    "p.add_layout(citation)\n",
    "\n",
    "show(p)"
   ]
  },
  {
   "cell_type": "markdown",
   "id": "907a0484",
   "metadata": {},
   "source": [
    "**Slope**"
   ]
  },
  {
   "cell_type": "code",
   "execution_count": 21,
   "id": "b07b0a39",
   "metadata": {},
   "outputs": [],
   "source": [
    "output_file('slope.html',title='slope.py example')\n",
    "\n",
    "gradient = 2\n",
    "y_intercept = 10\n",
    "\n",
    "xpts = np.arange(0,20)\n",
    "ypts = gradient*xpts + y_intercept +np.random.normal(0,4,20)\n",
    "\n",
    "p = figure(plot_width=450,plot_height=450,y_range=(0,1.1*max(ypts)))\n",
    "p.circle(xpts,ypts,size=5,color='skyblue')\n",
    "slope = Slope(gradient=gradient,y_intercept=y_intercept,line_color='orange',line_dash='dashed',\n",
    "             line_width=3.5)\n",
    "\n",
    "p.add_layout(slope)\n",
    "p.yaxis.axis_label = 'y'\n",
    "p.xaxis.axis_label = 'x'\n",
    "show(p)"
   ]
  },
  {
   "cell_type": "markdown",
   "id": "3f1105bc",
   "metadata": {},
   "source": [
    "**spans**"
   ]
  },
  {
   "cell_type": "code",
   "execution_count": 22,
   "id": "80becbd6",
   "metadata": {},
   "outputs": [],
   "source": [
    "import time\n",
    "from datetime import datetime as dt\n",
    "\n",
    "from bokeh.models import Span\n",
    "from bokeh.sampledata.daylight import daylight_warsaw_2013\n",
    "\n"
   ]
  },
  {
   "cell_type": "code",
   "execution_count": 28,
   "id": "d94e35ad",
   "metadata": {},
   "outputs": [],
   "source": [
    "output_file('span.html',title='span.py example')\n",
    "\n",
    "p = figure(x_axis_type='datetime',y_axis_type='datetime')\n",
    "\n",
    "p.line(daylight_warsaw_2013.Date,daylight_warsaw_2013.Sunset,line_dash='solid',line_width=2,\n",
    "      legend_label='Sunset')\n",
    "p.line(daylight_warsaw_2013.Date,daylight_warsaw_2013.Sunrise,line_dash='dotted',line_width=2,\n",
    "      legend_label='Sunrise')\n",
    "\n",
    "start_date = time.mktime(dt(2013,3,31,2,0,0).timetuple())*1000\n",
    "daylight_savings_start = Span(location=start_date,dimension='height',line_color='green',line_dash='dashed',\n",
    "                            line_width=3)\n",
    "\n",
    "p.add_layout(daylight_savings_start)\n",
    "\n",
    "end_date = time.mktime(dt(2013,10,27,3,0,0).timetuple())*1000\n",
    "\n",
    "daylight_savings_end = Span(location=end_date,dimension='height',line_color='red',line_dash='dashed',\n",
    "                            line_width=3)\n",
    "p.add_layout(daylight_savings_end)\n",
    "\n",
    "p.title.text = '2013 Sunrise and Sunset times in Warsaw'\n",
    "p.yaxis.axis_label = 'Time of Day'\n",
    "\n",
    "show(p)"
   ]
  },
  {
   "cell_type": "markdown",
   "id": "09085b13",
   "metadata": {},
   "source": [
    "**Whisker**"
   ]
  },
  {
   "cell_type": "code",
   "execution_count": 36,
   "id": "c11de2d1",
   "metadata": {},
   "outputs": [],
   "source": [
    "from bokeh.models import Whisker\n",
    "from bokeh.sampledata.autompg import autompg as df\n",
    "\n",
    "output_file('whisker.html',title='whisker.py example')\n",
    "colors = ['red','olive','darkred','goldenrod','skyblue','orange','salmon']\n",
    "p = figure(plot_width=600,plot_height=300,title='Years vs mpg with quartile ranges')\n",
    "\n",
    "base,lower,upper = [],[],[]\n",
    "\n",
    "for i, year in enumerate(list(df.yr.unique())):\n",
    "    year_mpgs = df[df['yr']== year]['mpg']\n",
    "    mpgs_mean = year_mpgs.mean()\n",
    "    mpgs_std = year_mpgs.std()\n",
    "    lower.append(mpgs_mean - mpgs_std)\n",
    "    upper.append(mpgs_mean + mpgs_std)\n",
    "    base.append(year)\n",
    "    \n",
    "source_error = ColumnDataSource(data=dict(base=base,lower=lower,upper=upper))\n",
    "\n",
    "p.add_layout(Whisker(source=source_error,base='base',upper='upper',lower='lower'))\n",
    "\n",
    "for i,year in enumerate(list(df.yr.unique())):\n",
    "    y = df[df['yr']==year]['mpg']\n",
    "\n",
    "    color = colors[i % len(colors)]\n",
    "    p.circle(x=year,y=y,color=color)\n",
    "\n",
    "show(p)"
   ]
  },
  {
   "cell_type": "code",
   "execution_count": 37,
   "id": "c1b32d99",
   "metadata": {},
   "outputs": [
    {
     "data": {
      "text/html": [
       "<div>\n",
       "<style scoped>\n",
       "    .dataframe tbody tr th:only-of-type {\n",
       "        vertical-align: middle;\n",
       "    }\n",
       "\n",
       "    .dataframe tbody tr th {\n",
       "        vertical-align: top;\n",
       "    }\n",
       "\n",
       "    .dataframe thead th {\n",
       "        text-align: right;\n",
       "    }\n",
       "</style>\n",
       "<table border=\"1\" class=\"dataframe\">\n",
       "  <thead>\n",
       "    <tr style=\"text-align: right;\">\n",
       "      <th></th>\n",
       "      <th>mpg</th>\n",
       "      <th>cyl</th>\n",
       "      <th>displ</th>\n",
       "      <th>hp</th>\n",
       "      <th>weight</th>\n",
       "      <th>accel</th>\n",
       "      <th>yr</th>\n",
       "      <th>origin</th>\n",
       "      <th>name</th>\n",
       "    </tr>\n",
       "  </thead>\n",
       "  <tbody>\n",
       "    <tr>\n",
       "      <th>0</th>\n",
       "      <td>18.0</td>\n",
       "      <td>8</td>\n",
       "      <td>307.0</td>\n",
       "      <td>130</td>\n",
       "      <td>3504</td>\n",
       "      <td>12.0</td>\n",
       "      <td>70</td>\n",
       "      <td>1</td>\n",
       "      <td>chevrolet chevelle malibu</td>\n",
       "    </tr>\n",
       "    <tr>\n",
       "      <th>1</th>\n",
       "      <td>15.0</td>\n",
       "      <td>8</td>\n",
       "      <td>350.0</td>\n",
       "      <td>165</td>\n",
       "      <td>3693</td>\n",
       "      <td>11.5</td>\n",
       "      <td>70</td>\n",
       "      <td>1</td>\n",
       "      <td>buick skylark 320</td>\n",
       "    </tr>\n",
       "    <tr>\n",
       "      <th>2</th>\n",
       "      <td>18.0</td>\n",
       "      <td>8</td>\n",
       "      <td>318.0</td>\n",
       "      <td>150</td>\n",
       "      <td>3436</td>\n",
       "      <td>11.0</td>\n",
       "      <td>70</td>\n",
       "      <td>1</td>\n",
       "      <td>plymouth satellite</td>\n",
       "    </tr>\n",
       "    <tr>\n",
       "      <th>3</th>\n",
       "      <td>16.0</td>\n",
       "      <td>8</td>\n",
       "      <td>304.0</td>\n",
       "      <td>150</td>\n",
       "      <td>3433</td>\n",
       "      <td>12.0</td>\n",
       "      <td>70</td>\n",
       "      <td>1</td>\n",
       "      <td>amc rebel sst</td>\n",
       "    </tr>\n",
       "    <tr>\n",
       "      <th>4</th>\n",
       "      <td>17.0</td>\n",
       "      <td>8</td>\n",
       "      <td>302.0</td>\n",
       "      <td>140</td>\n",
       "      <td>3449</td>\n",
       "      <td>10.5</td>\n",
       "      <td>70</td>\n",
       "      <td>1</td>\n",
       "      <td>ford torino</td>\n",
       "    </tr>\n",
       "  </tbody>\n",
       "</table>\n",
       "</div>"
      ],
      "text/plain": [
       "    mpg  cyl  displ   hp  weight  accel  yr  origin                       name\n",
       "0  18.0    8  307.0  130    3504   12.0  70       1  chevrolet chevelle malibu\n",
       "1  15.0    8  350.0  165    3693   11.5  70       1          buick skylark 320\n",
       "2  18.0    8  318.0  150    3436   11.0  70       1         plymouth satellite\n",
       "3  16.0    8  304.0  150    3433   12.0  70       1              amc rebel sst\n",
       "4  17.0    8  302.0  140    3449   10.5  70       1                ford torino"
      ]
     },
     "execution_count": 37,
     "metadata": {},
     "output_type": "execute_result"
    }
   ],
   "source": [
    "df.head(5)"
   ]
  }
 ],
 "metadata": {
  "kernelspec": {
   "display_name": "Python 3 (ipykernel)",
   "language": "python",
   "name": "python3"
  },
  "language_info": {
   "codemirror_mode": {
    "name": "ipython",
    "version": 3
   },
   "file_extension": ".py",
   "mimetype": "text/x-python",
   "name": "python",
   "nbconvert_exporter": "python",
   "pygments_lexer": "ipython3",
   "version": "3.9.13"
  }
 },
 "nbformat": 4,
 "nbformat_minor": 5
}
